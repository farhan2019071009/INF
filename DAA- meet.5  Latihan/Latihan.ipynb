{
 "cells": [
  {
   "cell_type": "code",
   "execution_count": 1,
   "metadata": {},
   "outputs": [],
   "source": [
    "def mergeSort(nlist):\n",
    "    print(\"Splitting \",nlist)\n",
    "    if len(nlist)>1:\n",
    "        mid = len(nlist)//2\n",
    "        lefthalf = nlist[:mid]\n",
    "        righthalf = nlist[mid:]\n",
    "\n",
    "        mergeSort(lefthalf)\n",
    "        mergeSort(righthalf)\n",
    "        i=j=k=0       \n",
    "        while i < len(lefthalf) and j < len(righthalf):\n",
    "            if lefthalf[i] < righthalf[j]:\n",
    "                nlist[k]=lefthalf[i]\n",
    "                i=i+1\n",
    "            else:\n",
    "                nlist[k]=righthalf[j]\n",
    "                j=j+1\n",
    "            k=k+1\n",
    "\n",
    "        while i < len(lefthalf):\n",
    "            nlist[k]=lefthalf[i]\n",
    "            i=i+1\n",
    "            k=k+1\n",
    "\n",
    "        while j < len(righthalf):\n",
    "            nlist[k]=righthalf[j]\n",
    "            j=j+1\n",
    "            k=k+1\n",
    "    print(\"Merging \",nlist)\n"
   ]
  },
  {
   "cell_type": "code",
   "execution_count": 2,
   "metadata": {},
   "outputs": [],
   "source": [
    "nlist = [21, 5, 9, 16, 30, 7]"
   ]
  },
  {
   "cell_type": "code",
   "execution_count": 8,
   "metadata": {},
   "outputs": [
    {
     "name": "stdout",
     "output_type": "stream",
     "text": [
      "Splitting  [5, 7, 9, 16, 21, 30]\n",
      "Splitting  [5, 7, 9]\n",
      "Splitting  [5]\n",
      "Merging  [5]\n",
      "Splitting  [7, 9]\n",
      "Splitting  [7]\n",
      "Merging  [7]\n",
      "Splitting  [9]\n",
      "Merging  [9]\n",
      "Merging  [7, 9]\n",
      "Merging  [5, 7, 9]\n",
      "Splitting  [16, 21, 30]\n",
      "Splitting  [16]\n",
      "Merging  [16]\n",
      "Splitting  [21, 30]\n",
      "Splitting  [21]\n",
      "Merging  [21]\n",
      "Splitting  [30]\n",
      "Merging  [30]\n",
      "Merging  [21, 30]\n",
      "Merging  [16, 21, 30]\n",
      "Merging  [5, 7, 9, 16, 21, 30]\n",
      "[5, 7, 9, 16, 21, 30]\n"
     ]
    }
   ],
   "source": [
    "mergeSort(nlist)\n",
    "print(nlist)"
   ]
  },
  {
   "cell_type": "code",
   "execution_count": 4,
   "metadata": {},
   "outputs": [],
   "source": [
    "def QuickSort(A,start,end):\n",
    "    if start<end:\n",
    "        pindex=partition(A,start,end)\n",
    "        QuickSort(A,start,pindex-1)\n",
    "        QuickSort(A,pindex+1,end)\n",
    "\n",
    "def partition(A,start,end):\n",
    "    pivot = A[end]\n",
    "    pindex = start\n",
    "    for i in range(start,end):\n",
    "        if (A[i] <= pivot):\n",
    "            A[i],A[pindex]=A[pindex],A[i]\n",
    "            pindex += 1\n",
    "    A[pindex],A[end] = A[end],A[pindex]\n",
    "    return pindex"
   ]
  },
  {
   "cell_type": "code",
   "execution_count": 5,
   "metadata": {},
   "outputs": [],
   "source": [
    "A = [17, 12, 57, 8, 16, 25]"
   ]
  },
  {
   "cell_type": "code",
   "execution_count": 6,
   "metadata": {},
   "outputs": [
    {
     "name": "stdout",
     "output_type": "stream",
     "text": [
      "[8, 12, 16, 17, 25, 57]\n"
     ]
    }
   ],
   "source": [
    "QuickSort(A,0,len(A)-1)\n",
    "print(A)"
   ]
  },
  {
   "cell_type": "code",
   "execution_count": null,
   "metadata": {},
   "outputs": [],
   "source": []
  }
 ],
 "metadata": {
  "kernelspec": {
   "display_name": "Python 3",
   "language": "python",
   "name": "python3"
  },
  "language_info": {
   "codemirror_mode": {
    "name": "ipython",
    "version": 3
   },
   "file_extension": ".py",
   "mimetype": "text/x-python",
   "name": "python",
   "nbconvert_exporter": "python",
   "pygments_lexer": "ipython3",
   "version": "3.8.3"
  }
 },
 "nbformat": 4,
 "nbformat_minor": 4
}
