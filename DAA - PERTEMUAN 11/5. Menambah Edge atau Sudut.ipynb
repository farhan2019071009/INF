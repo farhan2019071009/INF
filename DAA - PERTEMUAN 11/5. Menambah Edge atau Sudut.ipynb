{
 "cells": [
  {
   "cell_type": "code",
   "execution_count": 1,
   "metadata": {},
   "outputs": [
    {
     "name": "stdout",
     "output_type": "stream",
     "text": [
      "[{'b', 'a'}, {'c', 'a'}, {'b', 'd'}, {'c', 'd'}, {'e', 'd'}, {'e', 'a'}]\n"
     ]
    }
   ],
   "source": [
    "class graph:\n",
    "    \n",
    "    def __init__(self,gdict=None):\n",
    "        if gdict is None:\n",
    "            gdict = {}\n",
    "        self.gdict = gdict\n",
    "        \n",
    "    def edges(self):\n",
    "        return self.findedges()\n",
    "# Add the new edge\n",
    "\n",
    "    def AddEdge(self, edge):\n",
    "        edge = set(edge)\n",
    "        (vrtx1, vrtx2) = tuple(edge)\n",
    "        if vrtx1 in self.gdict:\n",
    "            self.gdict[vrtx1].append(vrtx2)\n",
    "        else:\n",
    "            self.gdict[vrtx1] = [vrtx2]\n",
    "            \n",
    "#  List the edge names\n",
    "    def findedges(self):\n",
    "        edgename = []\n",
    "        for vrtx in self.gdict:\n",
    "            for nxtvrtx in self.gdict[vrtx]:\n",
    "                if {nxtvrtx, vrtx} not in edgename:\n",
    "                    edgename.append({vrtx, nxtvrtx})\n",
    "        return edgename\n",
    "    \n",
    "# Create the dictionary with graph elements\n",
    "graph_elements = {\"a\" : [\"b\",\"c\"],\n",
    "                 \"b\" : [\"a\",\"d\"],\n",
    "                 \"c\" : [\"a\",\"d\"],\n",
    "                 \"d\" : [\"e\"],\n",
    "                 \"e\" : [\"d\"]\n",
    "                 }\n",
    "g = graph(graph_elements)\n",
    "g.AddEdge({'a','e'})\n",
    "g.AddEdge({'a','c'})\n",
    "print(g.edges())"
   ]
  },
  {
   "cell_type": "code",
   "execution_count": null,
   "metadata": {},
   "outputs": [],
   "source": []
  }
 ],
 "metadata": {
  "kernelspec": {
   "display_name": "Python 3",
   "language": "python",
   "name": "python3"
  },
  "language_info": {
   "codemirror_mode": {
    "name": "ipython",
    "version": 3
   },
   "file_extension": ".py",
   "mimetype": "text/x-python",
   "name": "python",
   "nbconvert_exporter": "python",
   "pygments_lexer": "ipython3",
   "version": "3.8.3"
  }
 },
 "nbformat": 4,
 "nbformat_minor": 4
}
