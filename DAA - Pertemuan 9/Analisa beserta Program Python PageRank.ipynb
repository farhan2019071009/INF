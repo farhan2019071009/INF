{
 "cells": [
  {
   "cell_type": "code",
   "execution_count": 1,
   "metadata": {},
   "outputs": [],
   "source": [
    "import numpy as np\n",
    "import networkx as nx\n",
    "import matplotlib.pyplot as plt"
   ]
  },
  {
   "cell_type": "code",
   "execution_count": 2,
   "metadata": {},
   "outputs": [],
   "source": [
    "myWeb = nx.DiGraph()\n",
    "myPages = range(1,6)"
   ]
  },
  {
   "cell_type": "code",
   "execution_count": 3,
   "metadata": {},
   "outputs": [],
   "source": [
    "connections = [(1,4),(2,1),(3,2),(3,4),(4,1),(4,3),(4,5),(5,6),(6,1),(6,5)]\n",
    "myWeb.add_nodes_from(myPages)\n",
    "myWeb.add_edges_from(connections)"
   ]
  },
  {
   "cell_type": "code",
   "execution_count": 4,
   "metadata": {},
   "outputs": [
    {
     "data": {
      "image/png": "[encoded data removed]",
      "text/plain": [
       "<Figure size 432x288 with 1 Axes>"
      ]
     },
     "metadata": {},
     "output_type": "display_data"
    }
   ],
   "source": [
    "pos=nx.shell_layout(myWeb)\n",
    "nx.draw(myWeb, pos,\n",
    "arrows=True, with_labels=True)\n",
    "plt.show()"
   ]
  },
  {
   "cell_type": "code",
   "execution_count": 9,
   "metadata": {},
   "outputs": [],
   "source": [
    "def createPageRank(aGraph):\n",
    "  nodes_set = len(aGraph)\n",
    "  M = nx.to_numpy_matrix(aGraph)\n",
    "  outwards = np.squeeze(np.asarray(np.sum(M, axis=1)))\n",
    "  prob_outwards = np.array(\n",
    "   [1.0/count\n",
    "    if count>0 else 0.0 for count in outwards])\n",
    "  G = np.asarray(np.multiply(M.T, prob_outwards))\n",
    "  p = np.ones(nodes_set) / float(nodes_set)\n",
    "  if np.min(np.sum(G,axis=0)) < 1.0:\n",
    "    print ('WARN: G is substochastic')\n",
    "  return G, p "
   ]
  },
  {
   "cell_type": "code",
   "execution_count": 10,
   "metadata": {},
   "outputs": [
    {
     "name": "stdout",
     "output_type": "stream",
     "text": [
      "[[0.         1.         0.         0.33333333 0.         0.5       ]\n",
      " [0.         0.         0.5        0.         0.         0.        ]\n",
      " [0.         0.         0.         0.33333333 0.         0.        ]\n",
      " [1.         0.         0.5        0.         0.         0.        ]\n",
      " [0.         0.         0.         0.33333333 0.         0.5       ]\n",
      " [0.         0.         0.         0.         1.         0.        ]]\n"
     ]
    }
   ],
   "source": [
    "G, p = createPageRank(myWeb)\n",
    "print (G)"
   ]
  },
  {
   "cell_type": "code",
   "execution_count": null,
   "metadata": {},
   "outputs": [],
   "source": []
  }
 ],
 "metadata": {
  "kernelspec": {
   "display_name": "Python 3",
   "language": "python",
   "name": "python3"
  },
  "language_info": {
   "codemirror_mode": {
    "name": "ipython",
    "version": 3
   },
   "file_extension": ".py",
   "mimetype": "text/x-python",
   "name": "python",
   "nbconvert_exporter": "python",
   "pygments_lexer": "ipython3",
   "version": "3.8.3"
  }
 },
 "nbformat": 4,
 "nbformat_minor": 4
}
